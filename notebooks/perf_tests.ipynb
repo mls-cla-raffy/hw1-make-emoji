{
 "cells": [
  {
   "cell_type": "code",
   "execution_count": 4,
   "id": "e7e68722",
   "metadata": {},
   "outputs": [
    {
     "name": "stdout",
     "output_type": "stream",
     "text": [
      "Testing function output:\n",
      "Result: \n",
      "\n",
      "Running a performance test... ⚙️\n",
      "\n",
      "\n",
      "25.8 ns ± 1.06 ns per loop (mean ± std. dev. of 7 runs, 10,000,000 loops each)\n",
      "Average time: 0.0000 seconds\n"
     ]
    }
   ],
   "source": [
    "import sys\n",
    "from pathlib import Path\n",
    "import argparse\n",
    "\n",
    "# update path to find script so import below works\n",
    "sys.path.append(str(Path('../').resolve()))\n",
    "\n",
    "# Import the script after updating the path\n",
    "import make_emoji\n",
    "\n",
    "# test name and msg arguments\n",
    "mock_args = argparse.Namespace(name=':gear:', msg='Running a performance test...')\n",
    "\n",
    "# Single test showing output\n",
    "print(\"Testing function output:\")\n",
    "result_text = make_emoji.main_with_return(mock_args)\n",
    "print(f\"Result: {result_text}\")\n",
    "\n",
    "# benchmarks!!\n",
    "result = %timeit -o lambda: make_emoji.main_with_return(mock_args)\n",
    "\n",
    "print(f\"Average time: {result.average:.4f} seconds\")\n"
   ]
  }
 ],
 "metadata": {
  "kernelspec": {
   "display_name": ".venv",
   "language": "python",
   "name": "python3"
  },
  "language_info": {
   "codemirror_mode": {
    "name": "ipython",
    "version": 3
   },
   "file_extension": ".py",
   "mimetype": "text/x-python",
   "name": "python",
   "nbconvert_exporter": "python",
   "pygments_lexer": "ipython3",
   "version": "3.10.16"
  }
 },
 "nbformat": 4,
 "nbformat_minor": 5
}
